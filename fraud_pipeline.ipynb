{
 "cells": [
  {
   "cell_type": "code",
   "execution_count": 1,
   "metadata": {},
   "outputs": [],
   "source": [
    "import pandas as pd\n",
    "import numpy as np\n",
    "import plot_params\n",
    "import seaborn as sns\n",
    "import matplotlib.pyplot as plt\n",
    "import graphviz\n",
    "import scipy.stats as stats\n",
    "\n",
    "from sklearn import preprocessing\n",
    "from sklearn.model_selection import train_test_split\n",
    "from sklearn.ensemble import RandomForestClassifier\n",
    "from sklearn.metrics import accuracy_score, f1_score\n",
    "from sklearn.inspection import PartialDependenceDisplay\n",
    "from sklearn.tree import export_graphviz\n",
    "from sklearn.preprocessing import StandardScaler\n",
    "from sklearn.linear_model import LogisticRegression\n",
    "from sklearn.svm import SVC\n",
    "from sklearn.metrics import classification_report\n",
    "from sklearn.pipeline import Pipeline\n",
    "from joblib import load\n",
    "\n",
    "plot_params.apply_rcparams()"
   ]
  },
  {
   "cell_type": "code",
   "execution_count": 2,
   "metadata": {},
   "outputs": [],
   "source": [
    "X = load('X.joblib')\n",
    "y = load('y.joblib')"
   ]
  },
  {
   "cell_type": "code",
   "execution_count": 84,
   "metadata": {},
   "outputs": [],
   "source": [
    "label_encoder = preprocessing.LabelEncoder()\n",
    "df_encoded_lab = df.apply(lambda col: label_encoder.fit_transform(col))\n",
    "df_encoded_ohe = pd.get_dummies(df, columns=df.columns[1:], drop_first=True)\n",
    "df_encoded_ohe['edibility'] = label_encoder.fit_transform(df['edibility'])"
   ]
  },
  {
   "cell_type": "code",
   "execution_count": 85,
   "metadata": {},
   "outputs": [],
   "source": [
    "X_lab = df_encoded_lab.iloc[:, 1:]\n",
    "y_lab = df_encoded_lab['edibility']\n",
    "X_ohe = df_encoded_ohe.drop(columns=['edibility'])\n",
    "y_ohe = df_encoded_ohe['edibility']"
   ]
  },
  {
   "cell_type": "code",
   "execution_count": 86,
   "metadata": {},
   "outputs": [],
   "source": [
    "X_train_lab, X_test_lab, y_train_lab, y_test_lab = \\\n",
    "    train_test_split(X_lab, y_lab, test_size=0.2, random_state=12)\n",
    "X_train_ohe, X_test_ohe, y_train_ohe, y_test_ohe = \\\n",
    "    train_test_split(X_ohe, y_ohe, test_size=0.2, random_state=12)"
   ]
  },
  {
   "cell_type": "code",
   "execution_count": 87,
   "metadata": {},
   "outputs": [],
   "source": [
    "models = {\n",
    "    'Random Forest': RandomForestClassifier(),\n",
    "    'Logistic Regression': LogisticRegression(),\n",
    "    'Support Vector Classifier': SVC()\n",
    "}"
   ]
  },
  {
   "cell_type": "code",
   "execution_count": 88,
   "metadata": {},
   "outputs": [
    {
     "name": "stdout",
     "output_type": "stream",
     "text": [
      "Results for Random Forest:\n",
      "              precision    recall  f1-score   support\n",
      "\n",
      "           0       1.00      1.00      1.00       813\n",
      "           1       1.00      1.00      1.00       812\n",
      "\n",
      "    accuracy                           1.00      1625\n",
      "   macro avg       1.00      1.00      1.00      1625\n",
      "weighted avg       1.00      1.00      1.00      1625\n",
      "\n",
      "Training Accuracy: 0.5896291737190337\n",
      "Test Accuracy: 0.5858461538461538\n",
      "============================================================\n",
      "Results for Logistic Regression:\n",
      "              precision    recall  f1-score   support\n",
      "\n",
      "           0       1.00      1.00      1.00       813\n",
      "           1       1.00      1.00      1.00       812\n",
      "\n",
      "    accuracy                           1.00      1625\n",
      "   macro avg       1.00      1.00      1.00      1625\n",
      "weighted avg       1.00      1.00      1.00      1625\n",
      "\n",
      "Training Accuracy: 0.832589629173719\n",
      "Test Accuracy: 0.8326153846153846\n",
      "============================================================\n"
     ]
    },
    {
     "name": "stderr",
     "output_type": "stream",
     "text": [
      "C:\\Users\\frang\\AppData\\Roaming\\Python\\Python39\\site-packages\\sklearn\\base.py:486: UserWarning: X has feature names, but RandomForestClassifier was fitted without feature names\n",
      "  warnings.warn(\n",
      "C:\\Users\\frang\\AppData\\Roaming\\Python\\Python39\\site-packages\\sklearn\\base.py:486: UserWarning: X has feature names, but RandomForestClassifier was fitted without feature names\n",
      "  warnings.warn(\n",
      "C:\\Users\\frang\\AppData\\Roaming\\Python\\Python39\\site-packages\\sklearn\\base.py:486: UserWarning: X has feature names, but LogisticRegression was fitted without feature names\n",
      "  warnings.warn(\n",
      "C:\\Users\\frang\\AppData\\Roaming\\Python\\Python39\\site-packages\\sklearn\\base.py:486: UserWarning: X has feature names, but LogisticRegression was fitted without feature names\n",
      "  warnings.warn(\n"
     ]
    },
    {
     "name": "stdout",
     "output_type": "stream",
     "text": [
      "Results for Support Vector Classifier:\n",
      "              precision    recall  f1-score   support\n",
      "\n",
      "           0       1.00      1.00      1.00       813\n",
      "           1       1.00      1.00      1.00       812\n",
      "\n",
      "    accuracy                           1.00      1625\n",
      "   macro avg       1.00      1.00      1.00      1625\n",
      "weighted avg       1.00      1.00      1.00      1625\n",
      "\n"
     ]
    },
    {
     "name": "stderr",
     "output_type": "stream",
     "text": [
      "C:\\Users\\frang\\AppData\\Roaming\\Python\\Python39\\site-packages\\sklearn\\base.py:486: UserWarning: X has feature names, but SVC was fitted without feature names\n",
      "  warnings.warn(\n"
     ]
    },
    {
     "name": "stdout",
     "output_type": "stream",
     "text": [
      "Training Accuracy: 0.8410524696107093\n",
      "Test Accuracy: 0.848\n",
      "============================================================\n"
     ]
    },
    {
     "name": "stderr",
     "output_type": "stream",
     "text": [
      "C:\\Users\\frang\\AppData\\Roaming\\Python\\Python39\\site-packages\\sklearn\\base.py:486: UserWarning: X has feature names, but SVC was fitted without feature names\n",
      "  warnings.warn(\n"
     ]
    }
   ],
   "source": [
    "for model_name, model in models.items():\n",
    "    \n",
    "    pipeline = Pipeline([\n",
    "        ('scaler', StandardScaler()),  \n",
    "        ('classifier', model)\n",
    "    ])\n",
    "    \n",
    "    if model_name == 'Random Forest':\n",
    "        pipeline.fit(X_train_lab, y_train_lab)\n",
    "        y_pred = pipeline.predict(X_test_lab)\n",
    "        print(f\"Results for {model_name}:\")\n",
    "        print(classification_report(y_test_lab, y_pred))\n",
    "        print(f\"Training Accuracy: {accuracy_score(y_train_lab, model.predict(X_train_lab))}\")\n",
    "        print(f\"Test Accuracy: {accuracy_score(y_test_lab, model.predict(X_test_lab))}\")\n",
    "        print(\"=\"*60)\n",
    "    else:\n",
    "        pipeline.fit(X_train_ohe, y_train_ohe)\n",
    "        y_pred = pipeline.predict(X_test_ohe)\n",
    "        print(f\"Results for {model_name}:\")\n",
    "        print(classification_report(y_test_ohe, y_pred))\n",
    "        print(f\"Training Accuracy: {accuracy_score(y_train_ohe, model.predict(X_train_ohe))}\")\n",
    "        print(f\"Test Accuracy: {accuracy_score(y_test_ohe, model.predict(X_test_ohe))}\")\n",
    "        print(\"=\"*60)\n",
    "    "
   ]
  },
  {
   "cell_type": "code",
   "execution_count": null,
   "metadata": {},
   "outputs": [],
   "source": []
  }
 ],
 "metadata": {
  "kernelspec": {
   "display_name": "base",
   "language": "python",
   "name": "python3"
  },
  "language_info": {
   "codemirror_mode": {
    "name": "ipython",
    "version": 3
   },
   "file_extension": ".py",
   "mimetype": "text/x-python",
   "name": "python",
   "nbconvert_exporter": "python",
   "pygments_lexer": "ipython3",
   "version": "3.9.12"
  }
 },
 "nbformat": 4,
 "nbformat_minor": 2
}
